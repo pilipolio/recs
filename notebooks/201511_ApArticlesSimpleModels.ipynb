{
 "cells": [
  {
   "cell_type": "markdown",
   "metadata": {},
   "source": [
    "# Off-line evaluation Aftenposten article recommendations"
   ]
  },
  {
   "cell_type": "markdown",
   "metadata": {},
   "source": [
    "Let $i$, $u$ and $k$ represent an item, user, and topic or category respectively, then $P(i | u)$\n",
    "is the probability of user $u$ clicking on an item. \n",
    "\n",
    "Click events $r_{u, i} = 1 $ if user $u$ clicked on $i$\n",
    "\n",
    "## Popularity model\n",
    "\n",
    "$$ P(i | u) = P(i) \\propto \\sum_u r_{u,i} $$\n",
    "\n",
    "## Pop by category model\n",
    "\n",
    " * Articles popularity\n",
    "\n",
    "$$ P(i) $$\n",
    "\n",
    " * Articles as mixture of categories (from the content metadata)\n",
    "\n",
    "$$ P(k | i) $$\n",
    "\n",
    " * User as mixture of categories (from the clicks)\n",
    "\n",
    "$$ P(k | u) = \\sum_{u, i} \\mathbb{1}( \\text{category}(i) = k) \\ r_{u, i} $$\n",
    "\n",
    "$$ P(i | u) = \\sum_k P(i | k) P(k | u) = \\sum_k \\frac{ P(i) }{ P(k)} P(k | i) P(k | u) $$\n",
    "\n",
    "So a user preference towards an item is proportional to the item's overall popularity and the user's preference towards the article's categories.\n",
    "\n",
    "Let's assume $P(k)$ are equal for all categories. See for [Topic Modeling for Personalized\n",
    "Recommendation of Volatile Items](http://www.lix.polytechnique.fr/~maks/papers/recommend.pdf) for more generative model around topics, users and items.\n",
    "\n",
    "See implementation (https://github.schibsted.io/guillaume-allain/recs/blob/master/recs/models/history.py) and tests (https://github.schibsted.io/guillaume-allain/recs/blob/master/recs/test/models/test_history.py)"
   ]
  },
  {
   "cell_type": "markdown",
   "metadata": {},
   "source": [
    "## Events and metadata"
   ]
  },
  {
   "cell_type": "code",
   "execution_count": 1,
   "metadata": {
    "collapsed": false
   },
   "outputs": [
    {
     "name": "stdout",
     "output_type": "stream",
     "text": [
      "2305542 views from (138609,) x (38952,) user/articles from 2015-09-16 08:03:58 to 2015-10-15 23:59:36\n"
     ]
    }
   ],
   "source": [
    "import pandas as pd\n",
    "import numpy as np\n",
    "\n",
    "events_path = \"~/Data/collapsed_events_30_days.csv\"\n",
    "\n",
    "user_events = pd.read_csv(events_path, header=None, names=['ts', 'type', 'user', 'item'], parse_dates=['ts'])\n",
    "mask = user_events['item'] != 'frontpage'\n",
    "user_events = user_events[mask]\n",
    "user_events['item'] = user_events['item'].astype('int64')\n",
    "\n",
    "print(\"{} views from {} x {} user/articles from {} to {}\".format(\n",
    "        user_events.shape[0],\n",
    "        user_events.user.unique().shape,\n",
    "        user_events.item.unique().shape,\n",
    "        user_events.ts.min(),\n",
    "        user_events.ts.max()))"
   ]
  },
  {
   "cell_type": "code",
   "execution_count": 2,
   "metadata": {
    "collapsed": false
   },
   "outputs": [
    {
     "name": "stdout",
     "output_type": "stream",
     "text": [
      "ts      datetime64[ns]\n",
      "type            object\n",
      "user             int64\n",
      "item             int64\n",
      "dtype: object\n"
     ]
    },
    {
     "data": {
      "text/html": [
       "<div>\n",
       "<table border=\"1\" class=\"dataframe\">\n",
       "  <thead>\n",
       "    <tr style=\"text-align: right;\">\n",
       "      <th></th>\n",
       "      <th>ts</th>\n",
       "      <th>type</th>\n",
       "      <th>user</th>\n",
       "      <th>item</th>\n",
       "    </tr>\n",
       "  </thead>\n",
       "  <tbody>\n",
       "    <tr>\n",
       "      <th>0</th>\n",
       "      <td>2015-09-30 17:04:52</td>\n",
       "      <td>View</td>\n",
       "      <td>3715244</td>\n",
       "      <td>8185208</td>\n",
       "    </tr>\n",
       "    <tr>\n",
       "      <th>2</th>\n",
       "      <td>2015-09-25 08:22:56</td>\n",
       "      <td>View</td>\n",
       "      <td>3532581</td>\n",
       "      <td>8179217</td>\n",
       "    </tr>\n",
       "    <tr>\n",
       "      <th>3</th>\n",
       "      <td>2015-10-07 18:56:51</td>\n",
       "      <td>View</td>\n",
       "      <td>3530156</td>\n",
       "      <td>8192364</td>\n",
       "    </tr>\n",
       "    <tr>\n",
       "      <th>4</th>\n",
       "      <td>2015-10-02 21:51:30</td>\n",
       "      <td>View</td>\n",
       "      <td>1751789</td>\n",
       "      <td>8182586</td>\n",
       "    </tr>\n",
       "    <tr>\n",
       "      <th>5</th>\n",
       "      <td>2015-09-23 05:46:57</td>\n",
       "      <td>View</td>\n",
       "      <td>2707306</td>\n",
       "      <td>605590</td>\n",
       "    </tr>\n",
       "  </tbody>\n",
       "</table>\n",
       "</div>"
      ],
      "text/plain": [
       "                   ts  type     user     item\n",
       "0 2015-09-30 17:04:52  View  3715244  8185208\n",
       "2 2015-09-25 08:22:56  View  3532581  8179217\n",
       "3 2015-10-07 18:56:51  View  3530156  8192364\n",
       "4 2015-10-02 21:51:30  View  1751789  8182586\n",
       "5 2015-09-23 05:46:57  View  2707306   605590"
      ]
     },
     "execution_count": 2,
     "metadata": {},
     "output_type": "execute_result"
    }
   ],
   "source": [
    "print user_events.dtypes\n",
    "user_events.head()"
   ]
  },
  {
   "cell_type": "code",
   "execution_count": 3,
   "metadata": {
    "collapsed": false
   },
   "outputs": [
    {
     "data": {
      "text/html": [
       "<div>\n",
       "<table border=\"1\" class=\"dataframe\">\n",
       "  <thead>\n",
       "    <tr style=\"text-align: right;\">\n",
       "      <th></th>\n",
       "      <th>nyheter</th>\n",
       "      <th>lordag (da)</th>\n",
       "      <th>byutvikling</th>\n",
       "      <th>anmeldelser</th>\n",
       "      <th>musikk</th>\n",
       "      <th>eksperter</th>\n",
       "      <th>madsen</th>\n",
       "      <th>lund</th>\n",
       "      <th>debatt</th>\n",
       "      <th>okonomi</th>\n",
       "      <th>...</th>\n",
       "      <th>leder</th>\n",
       "      <th>forsiden</th>\n",
       "      <th>anbefalinger</th>\n",
       "      <th>haugen</th>\n",
       "      <th>onsdag (da)</th>\n",
       "      <th>torsdag (da)</th>\n",
       "      <th>k-magasinet</th>\n",
       "      <th>fremskrittspartiet</th>\n",
       "      <th>kaffe</th>\n",
       "      <th>blogg</th>\n",
       "    </tr>\n",
       "  </thead>\n",
       "  <tbody>\n",
       "    <tr>\n",
       "      <th>8188176</th>\n",
       "      <td>0</td>\n",
       "      <td>0</td>\n",
       "      <td>0</td>\n",
       "      <td>0</td>\n",
       "      <td>0</td>\n",
       "      <td>0</td>\n",
       "      <td>0</td>\n",
       "      <td>0</td>\n",
       "      <td>0</td>\n",
       "      <td>1</td>\n",
       "      <td>...</td>\n",
       "      <td>0</td>\n",
       "      <td>0</td>\n",
       "      <td>0</td>\n",
       "      <td>0</td>\n",
       "      <td>0</td>\n",
       "      <td>0</td>\n",
       "      <td>0</td>\n",
       "      <td>0</td>\n",
       "      <td>0</td>\n",
       "      <td>0</td>\n",
       "    </tr>\n",
       "    <tr>\n",
       "      <th>8198524</th>\n",
       "      <td>0</td>\n",
       "      <td>0</td>\n",
       "      <td>0</td>\n",
       "      <td>0</td>\n",
       "      <td>0</td>\n",
       "      <td>0</td>\n",
       "      <td>0</td>\n",
       "      <td>0</td>\n",
       "      <td>0</td>\n",
       "      <td>0</td>\n",
       "      <td>...</td>\n",
       "      <td>0</td>\n",
       "      <td>1</td>\n",
       "      <td>0</td>\n",
       "      <td>0</td>\n",
       "      <td>0</td>\n",
       "      <td>0</td>\n",
       "      <td>0</td>\n",
       "      <td>0</td>\n",
       "      <td>0</td>\n",
       "      <td>0</td>\n",
       "    </tr>\n",
       "    <tr>\n",
       "      <th>8200641</th>\n",
       "      <td>0</td>\n",
       "      <td>1</td>\n",
       "      <td>0</td>\n",
       "      <td>0</td>\n",
       "      <td>0</td>\n",
       "      <td>0</td>\n",
       "      <td>0</td>\n",
       "      <td>0</td>\n",
       "      <td>0</td>\n",
       "      <td>0</td>\n",
       "      <td>...</td>\n",
       "      <td>0</td>\n",
       "      <td>0</td>\n",
       "      <td>0</td>\n",
       "      <td>0</td>\n",
       "      <td>1</td>\n",
       "      <td>1</td>\n",
       "      <td>0</td>\n",
       "      <td>0</td>\n",
       "      <td>0</td>\n",
       "      <td>0</td>\n",
       "    </tr>\n",
       "    <tr>\n",
       "      <th>8186447</th>\n",
       "      <td>0</td>\n",
       "      <td>0</td>\n",
       "      <td>0</td>\n",
       "      <td>0</td>\n",
       "      <td>0</td>\n",
       "      <td>0</td>\n",
       "      <td>0</td>\n",
       "      <td>0</td>\n",
       "      <td>0</td>\n",
       "      <td>0</td>\n",
       "      <td>...</td>\n",
       "      <td>0</td>\n",
       "      <td>1</td>\n",
       "      <td>0</td>\n",
       "      <td>0</td>\n",
       "      <td>0</td>\n",
       "      <td>0</td>\n",
       "      <td>0</td>\n",
       "      <td>0</td>\n",
       "      <td>0</td>\n",
       "      <td>0</td>\n",
       "    </tr>\n",
       "    <tr>\n",
       "      <th>8188828</th>\n",
       "      <td>0</td>\n",
       "      <td>0</td>\n",
       "      <td>0</td>\n",
       "      <td>0</td>\n",
       "      <td>0</td>\n",
       "      <td>0</td>\n",
       "      <td>0</td>\n",
       "      <td>0</td>\n",
       "      <td>0</td>\n",
       "      <td>0</td>\n",
       "      <td>...</td>\n",
       "      <td>0</td>\n",
       "      <td>1</td>\n",
       "      <td>0</td>\n",
       "      <td>0</td>\n",
       "      <td>0</td>\n",
       "      <td>0</td>\n",
       "      <td>0</td>\n",
       "      <td>0</td>\n",
       "      <td>0</td>\n",
       "      <td>0</td>\n",
       "    </tr>\n",
       "  </tbody>\n",
       "</table>\n",
       "<p>5 rows × 76 columns</p>\n",
       "</div>"
      ],
      "text/plain": [
       "         nyheter  lordag (da)  byutvikling  anmeldelser  musikk  eksperter  \\\n",
       "8188176        0            0            0            0       0          0   \n",
       "8198524        0            0            0            0       0          0   \n",
       "8200641        0            1            0            0       0          0   \n",
       "8186447        0            0            0            0       0          0   \n",
       "8188828        0            0            0            0       0          0   \n",
       "\n",
       "         madsen  lund  debatt  okonomi  ...    leder  forsiden  anbefalinger  \\\n",
       "8188176       0     0       0        1  ...        0         0             0   \n",
       "8198524       0     0       0        0  ...        0         1             0   \n",
       "8200641       0     0       0        0  ...        0         0             0   \n",
       "8186447       0     0       0        0  ...        0         1             0   \n",
       "8188828       0     0       0        0  ...        0         1             0   \n",
       "\n",
       "         haugen  onsdag (da)  torsdag (da)  k-magasinet  fremskrittspartiet  \\\n",
       "8188176       0            0             0            0                   0   \n",
       "8198524       0            0             0            0                   0   \n",
       "8200641       0            1             1            0                   0   \n",
       "8186447       0            0             0            0                   0   \n",
       "8188828       0            0             0            0                   0   \n",
       "\n",
       "         kaffe  blogg  \n",
       "8188176      0      0  \n",
       "8198524      0      0  \n",
       "8200641      0      0  \n",
       "8186447      0      0  \n",
       "8188828      0      0  \n",
       "\n",
       "[5 rows x 76 columns]"
      ]
     },
     "execution_count": 3,
     "metadata": {},
     "output_type": "execute_result"
    }
   ],
   "source": [
    "from recs import dataio\n",
    "\n",
    "dataio.load_article_categories_df().head()"
   ]
  },
  {
   "cell_type": "code",
   "execution_count": 4,
   "metadata": {
    "collapsed": false
   },
   "outputs": [
    {
     "name": "stdout",
     "output_type": "stream",
     "text": [
      "(719799, 11)\n"
     ]
    },
    {
     "data": {
      "text/html": [
       "<div>\n",
       "<table border=\"1\" class=\"dataframe\">\n",
       "  <thead>\n",
       "    <tr style=\"text-align: right;\">\n",
       "      <th></th>\n",
       "      <th>ts</th>\n",
       "      <th>type</th>\n",
       "      <th>user</th>\n",
       "      <th>item</th>\n",
       "      <th>index</th>\n",
       "      <th>innenriks</th>\n",
       "      <th>verden</th>\n",
       "      <th>meninger</th>\n",
       "      <th>osloby</th>\n",
       "      <th>kultur</th>\n",
       "      <th>okonomi</th>\n",
       "    </tr>\n",
       "  </thead>\n",
       "  <tbody>\n",
       "    <tr>\n",
       "      <th>0</th>\n",
       "      <td>2015-10-07 18:56:51</td>\n",
       "      <td>View</td>\n",
       "      <td>3530156</td>\n",
       "      <td>8192364</td>\n",
       "      <td>8192364</td>\n",
       "      <td>1</td>\n",
       "      <td>0</td>\n",
       "      <td>0</td>\n",
       "      <td>0</td>\n",
       "      <td>0</td>\n",
       "      <td>0</td>\n",
       "    </tr>\n",
       "    <tr>\n",
       "      <th>1</th>\n",
       "      <td>2015-10-07 20:29:59</td>\n",
       "      <td>View</td>\n",
       "      <td>4730292</td>\n",
       "      <td>8192364</td>\n",
       "      <td>8192364</td>\n",
       "      <td>1</td>\n",
       "      <td>0</td>\n",
       "      <td>0</td>\n",
       "      <td>0</td>\n",
       "      <td>0</td>\n",
       "      <td>0</td>\n",
       "    </tr>\n",
       "    <tr>\n",
       "      <th>2</th>\n",
       "      <td>2015-10-07 18:21:15</td>\n",
       "      <td>View</td>\n",
       "      <td>3701590</td>\n",
       "      <td>8192364</td>\n",
       "      <td>8192364</td>\n",
       "      <td>1</td>\n",
       "      <td>0</td>\n",
       "      <td>0</td>\n",
       "      <td>0</td>\n",
       "      <td>0</td>\n",
       "      <td>0</td>\n",
       "    </tr>\n",
       "    <tr>\n",
       "      <th>3</th>\n",
       "      <td>2015-10-08 06:15:17</td>\n",
       "      <td>View</td>\n",
       "      <td>406649</td>\n",
       "      <td>8192364</td>\n",
       "      <td>8192364</td>\n",
       "      <td>1</td>\n",
       "      <td>0</td>\n",
       "      <td>0</td>\n",
       "      <td>0</td>\n",
       "      <td>0</td>\n",
       "      <td>0</td>\n",
       "    </tr>\n",
       "    <tr>\n",
       "      <th>4</th>\n",
       "      <td>2015-10-08 20:12:49</td>\n",
       "      <td>View</td>\n",
       "      <td>3821803</td>\n",
       "      <td>8192364</td>\n",
       "      <td>8192364</td>\n",
       "      <td>1</td>\n",
       "      <td>0</td>\n",
       "      <td>0</td>\n",
       "      <td>0</td>\n",
       "      <td>0</td>\n",
       "      <td>0</td>\n",
       "    </tr>\n",
       "  </tbody>\n",
       "</table>\n",
       "</div>"
      ],
      "text/plain": [
       "                   ts  type     user     item    index  innenriks  verden  \\\n",
       "0 2015-10-07 18:56:51  View  3530156  8192364  8192364          1       0   \n",
       "1 2015-10-07 20:29:59  View  4730292  8192364  8192364          1       0   \n",
       "2 2015-10-07 18:21:15  View  3701590  8192364  8192364          1       0   \n",
       "3 2015-10-08 06:15:17  View   406649  8192364  8192364          1       0   \n",
       "4 2015-10-08 20:12:49  View  3821803  8192364  8192364          1       0   \n",
       "\n",
       "   meninger  osloby  kultur  okonomi  \n",
       "0         0       0       0        0  \n",
       "1         0       0       0        0  \n",
       "2         0       0       0        0  \n",
       "3         0       0       0        0  \n",
       "4         0       0       0        0  "
      ]
     },
     "execution_count": 4,
     "metadata": {},
     "output_type": "execute_result"
    }
   ],
   "source": [
    "main_categories = ['innenriks', 'verden', 'meninger', 'osloby', 'kultur', 'okonomi']\n",
    "article_from_main_categories = dataio.load_article_categories_df()[main_categories]\n",
    "\n",
    "user_events_with_cat = pd.merge(\n",
    "    user_events,\n",
    "    article_from_main_categories.reset_index(),\n",
    "    left_on='item', right_on='index', how='inner')\n",
    "\n",
    "print user_events_with_cat.shape\n",
    "user_events_with_cat.head()"
   ]
  },
  {
   "cell_type": "markdown",
   "metadata": {},
   "source": [
    "## Train and test splits\n",
    "\n",
    "Articles have rarely a lifetime greater than a day\n",
    "\n",
    "  $\\Rightarrow$ it doesn't make sense to test a model against a test period bigger than a day\n",
    "   \n",
    "  $\\Rightarrow$ train and test splits disjoint but set on the same day (cut-off at noon) \n",
    "  \n",
    "  $\\Rightarrow$ train data from the past days is useful to model user preferences towards categories (but could also vary over time), but useless to calculate popularity\n",
    " "
   ]
  },
  {
   "cell_type": "code",
   "execution_count": 64,
   "metadata": {
    "collapsed": false
   },
   "outputs": [
    {
     "name": "stdout",
     "output_type": "stream",
     "text": [
      "(2305542, 4)\n",
      "(690461, 11)\n",
      "(29338, 11)\n"
     ]
    }
   ],
   "source": [
    "from datetime import datetime, timedelta\n",
    "\n",
    "def train_test_splits(user_item_ts_df, cut_off_dt):\n",
    "    def to_end_of_dt(dt):\n",
    "        return datetime(dt.year, dt.month, dt.day) + timedelta(days=1)\n",
    "    \n",
    "    train_mask = user_item_ts_df.ts <= cut_off_dt\n",
    "    after_test_day_mask = user_item_ts_df.ts > to_end_of_dt(cut_off_dt)\n",
    "    return user_item_ts_df.ix[train_mask,:], user_item_ts_df.ix[np.logical_not(np.logical_or(train_mask, after_test_day_mask)),:]\n",
    "\n",
    "train_df, test_df = train_test_splits(user_events_with_cat, cut_off_dt=datetime(2015, 10, 15, 12, 0, 0))\n",
    "print(user_events.shape)\n",
    "print(train_df.shape)\n",
    "print(test_df.shape)"
   ]
  },
  {
   "cell_type": "markdown",
   "metadata": {},
   "source": [
    "## Recommendations examples"
   ]
  },
  {
   "cell_type": "code",
   "execution_count": 14,
   "metadata": {
    "collapsed": false
   },
   "outputs": [
    {
     "data": {
      "text/html": [
       "<div>\n",
       "<table border=\"1\" class=\"dataframe\">\n",
       "  <thead>\n",
       "    <tr style=\"text-align: right;\">\n",
       "      <th></th>\n",
       "      <th>item</th>\n",
       "      <th>user</th>\n",
       "    </tr>\n",
       "  </thead>\n",
       "  <tbody>\n",
       "    <tr>\n",
       "      <th>0</th>\n",
       "      <td>8192223</td>\n",
       "      <td>3530156</td>\n",
       "    </tr>\n",
       "    <tr>\n",
       "      <th>1</th>\n",
       "      <td>8202632</td>\n",
       "      <td>3530156</td>\n",
       "    </tr>\n",
       "    <tr>\n",
       "      <th>2</th>\n",
       "      <td>8203941</td>\n",
       "      <td>3530156</td>\n",
       "    </tr>\n",
       "    <tr>\n",
       "      <th>3</th>\n",
       "      <td>8200902</td>\n",
       "      <td>3530156</td>\n",
       "    </tr>\n",
       "    <tr>\n",
       "      <th>4</th>\n",
       "      <td>8202514</td>\n",
       "      <td>3530156</td>\n",
       "    </tr>\n",
       "  </tbody>\n",
       "</table>\n",
       "</div>"
      ],
      "text/plain": [
       "      item     user\n",
       "0  8192223  3530156\n",
       "1  8202632  3530156\n",
       "2  8203941  3530156\n",
       "3  8200902  3530156\n",
       "4  8202514  3530156"
      ]
     },
     "execution_count": 14,
     "metadata": {},
     "output_type": "execute_result"
    }
   ],
   "source": [
    "from recs.models import pop\n",
    "\n",
    "pers_model = pop.PopModel.fit(train_df)\n",
    "pers_model.recs(users=[[3530156]], topn=5)"
   ]
  },
  {
   "cell_type": "code",
   "execution_count": 32,
   "metadata": {
    "collapsed": false
   },
   "outputs": [
    {
     "name": "stdout",
     "output_type": "stream",
     "text": [
      "innenriks    0.409091\n",
      "verden       0.090909\n",
      "meninger     0.045455\n",
      "osloby       0.409091\n",
      "kultur       0.045455\n",
      "okonomi      0.000000\n",
      "Name: 3530156, dtype: float64\n",
      "innenriks    0\n",
      "verden       0\n",
      "meninger     0\n",
      "osloby       0\n",
      "kultur       0\n",
      "okonomi      1\n",
      "Name: 8192223, dtype: float64\n"
     ]
    },
    {
     "data": {
      "text/html": [
       "<div>\n",
       "<table border=\"1\" class=\"dataframe\">\n",
       "  <thead>\n",
       "    <tr style=\"text-align: right;\">\n",
       "      <th></th>\n",
       "      <th>item</th>\n",
       "      <th>score</th>\n",
       "      <th>user</th>\n",
       "    </tr>\n",
       "  </thead>\n",
       "  <tbody>\n",
       "    <tr>\n",
       "      <th>0</th>\n",
       "      <td>8202632</td>\n",
       "      <td>0.022505</td>\n",
       "      <td>3530156</td>\n",
       "    </tr>\n",
       "    <tr>\n",
       "      <th>1</th>\n",
       "      <td>8202714</td>\n",
       "      <td>0.014817</td>\n",
       "      <td>3530156</td>\n",
       "    </tr>\n",
       "    <tr>\n",
       "      <th>2</th>\n",
       "      <td>8203608</td>\n",
       "      <td>0.014332</td>\n",
       "      <td>3530156</td>\n",
       "    </tr>\n",
       "    <tr>\n",
       "      <th>3</th>\n",
       "      <td>8203789</td>\n",
       "      <td>0.012251</td>\n",
       "      <td>3530156</td>\n",
       "    </tr>\n",
       "    <tr>\n",
       "      <th>4</th>\n",
       "      <td>8201533</td>\n",
       "      <td>0.011601</td>\n",
       "      <td>3530156</td>\n",
       "    </tr>\n",
       "  </tbody>\n",
       "</table>\n",
       "</div>"
      ],
      "text/plain": [
       "      item     score     user\n",
       "0  8202632  0.022505  3530156\n",
       "1  8202714  0.014817  3530156\n",
       "2  8203608  0.014332  3530156\n",
       "3  8203789  0.012251  3530156\n",
       "4  8201533  0.011601  3530156"
      ]
     },
     "execution_count": 32,
     "metadata": {},
     "output_type": "execute_result"
    }
   ],
   "source": [
    "from recs.models import history\n",
    "\n",
    "pers_model = history.MixtureOfCategoryModel.fit(train_df)\n",
    "print(pers_model.user_category_probs.loc[3530156])\n",
    "print(pers_model.item_category_probs.loc[8192223])\n",
    "\n",
    "pers_model.recs([3530156], topn=5)"
   ]
  },
  {
   "cell_type": "markdown",
   "metadata": {},
   "source": [
    "## Evaluation"
   ]
  },
  {
   "cell_type": "code",
   "execution_count": 152,
   "metadata": {
    "collapsed": false
   },
   "outputs": [],
   "source": [
    "from recs.evaluation import metrics\n",
    "from matplotlib import pyplot as plt\n",
    "%matplotlib inline\n",
    "plt.style.use('ggplot')\n",
    "\n",
    "\n",
    "def evaluate(model_class, user_item_ts_df, cut_off_dt, topn=5):\n",
    "    train_df, test_df = train_test_splits(user_item_ts_df, cut_off_dt)\n",
    "    \n",
    "    all_test_users = test_df.user.unique()\n",
    "    train_user_counts = train_df.groupby('user').size()\n",
    "    selected_test_users = all_test_users[np.in1d(all_test_users, train_user_counts.index[train_user_counts > 5])]\n",
    "    test_user_items = test_df[test_df.user.isin(selected_test_users)]\n",
    "\n",
    "    print(\"{}/{} test/train events from {}/{} test users\".format(\n",
    "            test_user_items.shape[0], train_df.shape[0],\n",
    "            len(selected_test_users), len(all_test_users)))\n",
    "    \n",
    "    user_item_recs = model_class.fit(train_df).recs(users=selected_test_users, topn=topn)\n",
    "    \n",
    "    return test_user_items, user_item_recs"
   ]
  },
  {
   "cell_type": "markdown",
   "metadata": {},
   "source": [
    "## Recommendations diversity\n",
    "\n",
    " * Mixture model brings a bit of diversity"
   ]
  },
  {
   "cell_type": "code",
   "execution_count": 153,
   "metadata": {
    "collapsed": false
   },
   "outputs": [
    {
     "name": "stdout",
     "output_type": "stream",
     "text": [
      "12089/183858 test/train events from 4872/15110 test users\n",
      "(0.07073070607553367, 0.14252626354537182)\n",
      "12089/183858 test/train events from 4872/15110 test users\n",
      "(0.05213464696223317, 0.1050541814873025)\n"
     ]
    },
    {
     "data": {
      "image/png": "[encoded data removed]",
      "text/plain": [
       "<matplotlib.figure.Figure at 0x116271350>"
      ]
     },
     "metadata": {},
     "output_type": "display_data"
    }
   ],
   "source": [
    "def plot_coverage(user_item_recs):\n",
    "    rec_item_desc_counts = user_item_recs.groupby('item').size().sort_values(ascending=False).values\n",
    "    color = next(ax._get_lines.color_cycle)\n",
    "    ax.bar(.5 + np.arange(len(rec_item_desc_counts)), rec_item_desc_counts / rec_item_desc_counts.sum(dtype='float'), width=1, \n",
    "    \n",
    "           color=color, edgecolor=color)\n",
    "    \n",
    "f, ax = plt.subplots(1, figsize=(12, 8))\n",
    "eval_cut = datetime(2015, 10, 6, 12, 0, 0)\n",
    "\n",
    "test, recs = evaluate(pop.PopModel, user_events_with_cat, cut_off_dt=eval_cut)\n",
    "plot_coverage(recs)\n",
    "print(metrics.prec_and_recall(test, recs))\n",
    "\n",
    "test, recs = evaluate(history.MixtureOfCategoryModel, user_events_with_cat, cut_off_dt=eval_cut)\n",
    "plot_coverage(recs)\n",
    "print(metrics.prec_and_recall(test, recs))\n",
    "\n",
    "plt.xlim([.5, 25])\n",
    "plt.xlabel('Top items')\n",
    "plt.ylabel('Proportion of recommendations')\n",
    "plt.legend(['Pop', 'MixtureOfCat']);"
   ]
  },
  {
   "cell_type": "markdown",
   "metadata": {},
   "source": [
    "## Accuracy and conclusions\n",
    "\n",
    " * Pop slightly better than MixtureModel :(\n",
    " * Probably hard to compete with the front page composition (could we discount it? do we collect this information?)\n",
    " * Could user interest be more transient? Like changing week after week?\n",
    " * Any other simple models that we should test? I would like to bring in topics from LDA, see if that improves things\n"
   ]
  },
  {
   "cell_type": "code",
   "execution_count": 146,
   "metadata": {
    "collapsed": false
   },
   "outputs": [
    {
     "name": "stdout",
     "output_type": "stream",
     "text": [
      "4/5995 test/train events from 2/9341 test users\n",
      "4/5995 test/train events from 2/9341 test users\n",
      "1124/35854 test/train events from 413/10485 test users\n",
      "1124/35854 test/train events from 413/10485 test users\n",
      "2638/67283 test/train events from 1134/8900 test users\n",
      "2638/67283 test/train events from 1134/8900 test users\n",
      "4482/96758 test/train events from 2036/10255 test users\n",
      "4482/96758 test/train events from 2036/10255 test users\n",
      "8576/134798 test/train events from 3459/13668 test users\n",
      "8576/134798 test/train events from 3459/13668 test users\n",
      "12089/183858 test/train events from 4872/15110 test users\n",
      "12089/183858 test/train events from 4872/15110 test users\n",
      "15323/244535 test/train events from 6410/16600 test users\n",
      "15323/244535 test/train events from 6410/16600 test users\n",
      "17049/299102 test/train events from 7366/15697 test users\n",
      "17049/299102 test/train events from 7366/15697 test users\n",
      "19509/355751 test/train events from 7928/15552 test users\n",
      "19509/355751 test/train events from 7928/15552 test users\n",
      "14785/408404 test/train events from 6855/12201 test users\n",
      "14785/408404 test/train events from 6855/12201 test users\n",
      "18981/452728 test/train events from 8419/14437 test users\n",
      "18981/452728 test/train events from 8419/14437 test users\n",
      "21471/506926 test/train events from 9854/16238 test users\n",
      "21471/506926 test/train events from 9854/16238 test users\n",
      "22514/563220 test/train events from 10435/15965 test users\n",
      "22514/563220 test/train events from 10435/15965 test users\n",
      "27242/624229 test/train events from 11827/18211 test users\n",
      "27242/624229 test/train events from 11827/18211 test users\n",
      "22824/690461 test/train events from 10622/15111 test users\n",
      "22824/690461 test/train events from 10622/15111 test users\n"
     ]
    }
   ],
   "source": [
    "n = 15\n",
    "algo_metrics_over_time = np.zeros((2, 2, n))\n",
    "eval_cuts = []\n",
    "for i in range(n):\n",
    "    eval_cut = datetime(2015, 10, 1, 12, 0, 0) + timedelta(days=i)\n",
    "    eval_cuts += [eval_cut]\n",
    "    algo_metrics_over_time[0, :, i] = metrics.prec_and_recall(*\n",
    "        evaluate(pop.PopModel, user_events_with_cat, cut_off_dt=eval_cut))\n",
    "\n",
    "    algo_metrics_over_time[1, :, i] = metrics.prec_and_recall(*\n",
    "        evaluate(history.MixtureOfCategoryModel, user_events_with_cat, cut_off_dt=eval_cut))"
   ]
  },
  {
   "cell_type": "code",
   "execution_count": 151,
   "metadata": {
    "collapsed": false
   },
   "outputs": [
    {
     "data": {
      "image/png": "[encoded data removed]",
      "text/plain": [
       "<matplotlib.figure.Figure at 0x116083d90>"
      ]
     },
     "metadata": {},
     "output_type": "display_data"
    }
   ],
   "source": [
    "plt.figure(figsize=(12, 8))\n",
    "plt.plot(eval_cuts, algo_metrics_over_time[0, 0, :], lw=2, label='pop')\n",
    "plt.plot(eval_cuts, algo_metrics_over_time[1, 0, :], lw=2, label='mixture')\n",
    "plt.legend();"
   ]
  }
 ],
 "metadata": {
  "kernelspec": {
   "display_name": "Python 2",
   "language": "python",
   "name": "python2"
  },
  "language_info": {
   "codemirror_mode": {
    "name": "ipython",
    "version": 2
   },
   "file_extension": ".py",
   "mimetype": "text/x-python",
   "name": "python",
   "nbconvert_exporter": "python",
   "pygments_lexer": "ipython2",
   "version": "2.7.10"
  }
 },
 "nbformat": 4,
 "nbformat_minor": 0
}
