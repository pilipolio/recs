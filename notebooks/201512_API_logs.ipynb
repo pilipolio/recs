{
 "cells": [
  {
   "cell_type": "code",
   "execution_count": 32,
   "metadata": {
    "collapsed": true
   },
   "outputs": [],
   "source": [
    "from matplotlib import pyplot as plt\n",
    "%matplotlib inline\n",
    "plt.style.use('ggplot')"
   ]
  },
  {
   "cell_type": "code",
   "execution_count": 33,
   "metadata": {
    "collapsed": false
   },
   "outputs": [
    {
     "data": {
      "text/plain": [
       "[{u'publication': u'Aftenposten',\n",
       "  u'recommendations': [{u'id': u'8285373', u'score': 0.041},\n",
       "   {u'id': u'8283181', u'score': 0.009},\n",
       "   {u'id': u'8288414', u'score': 0.011},\n",
       "   {u'id': u'657407', u'score': 0.038},\n",
       "   {u'id': u'653207', u'score': 0.019},\n",
       "   {u'id': u'8265882', u'score': 0.01},\n",
       "   {u'id': u'8285200', u'score': 0.054},\n",
       "   {u'id': u'8283708', u'score': 0.058},\n",
       "   {u'id': u'8285457', u'score': 0.007},\n",
       "   {u'id': u'8285240', u'score': 0.009}],\n",
       "  u'recommenderId': u'popularity',\n",
       "  u'timestamp': u'2015-12-18T00:00:02.979Z',\n",
       "  u'userId': u'3578962'},\n",
       " {u'publication': u'Aftenposten',\n",
       "  u'recommendations': [{u'id': u'8285540', u'score': 0.026},\n",
       "   {u'id': u'657648', u'score': 0.009},\n",
       "   {u'id': u'8280992', u'score': 0.08},\n",
       "   {u'id': u'8285172', u'score': 0.025},\n",
       "   {u'id': u'8286302', u'score': 0.032},\n",
       "   {u'id': u'8286291', u'score': 0.016},\n",
       "   {u'id': u'8284172', u'score': 0.026},\n",
       "   {u'id': u'657441', u'score': 0.025},\n",
       "   {u'id': u'656969', u'score': 0.013},\n",
       "   {u'id': u'8284548', u'score': 0.026}],\n",
       "  u'recommenderId': u'popularity',\n",
       "  u'timestamp': u'2015-12-18T00:00:10.211Z',\n",
       "  u'userId': u'1772574'}]"
      ]
     },
     "execution_count": 33,
     "metadata": {},
     "output_type": "execute_result"
    }
   ],
   "source": [
    "import json\n",
    "logs = [json.loads(l) for l in open(\"/Users/gui/Downloads/recsys-api-recommendations.log\")]\n",
    "\n",
    "logs[:2]"
   ]
  },
  {
   "cell_type": "code",
   "execution_count": 37,
   "metadata": {
    "collapsed": false
   },
   "outputs": [],
   "source": [
    "import operator\n",
    "\n",
    "get_user = operator.itemgetter(u'userId')\n",
    "\n",
    "def is_empty(log):\n",
    "    return log['recommendations'] == []\n",
    "\n",
    "def not_empty(log):\n",
    "    return log['recommendations'] != []\n",
    "\n",
    "no_recs_logs = filter(is_empty, logs)\n",
    "no_recs_users = set(map(get_user, no_recs_logs))\n",
    "\n",
    "with_recs_logs = filter(not_empty, logs)\n",
    "with_recs_users = set(map(get_user, with_recs_logs))\n",
    "\n",
    "map()"
   ]
  },
  {
   "cell_type": "code",
   "execution_count": 45,
   "metadata": {
    "collapsed": false
   },
   "outputs": [
    {
     "data": {
      "text/plain": [
       "<matplotlib.legend.Legend at 0x105d556d0>"
      ]
     },
     "execution_count": 45,
     "metadata": {},
     "output_type": "execute_result"
    },
    {
     "data": {
      "image/png": "[encoded data removed]",
      "text/plain": [
       "<matplotlib.figure.Figure at 0x105d4b450>"
      ]
     },
     "metadata": {},
     "output_type": "display_data"
    }
   ],
   "source": [
    "plt.bar([0, 1], [len(no_recs_logs), len(with_recs_logs)], color='green', label='#logs')\n",
    "plt.xticks([0.5, 1.5], ['No recs', 'With recs']);\n",
    "plt.ylabel('Counts')\n",
    "plt.bar([0, 1], [len(no_recs_users), len(with_recs_users)], label='#users')\n",
    "plt.legend()\n"
   ]
  },
  {
   "cell_type": "code",
   "execution_count": 39,
   "metadata": {
    "collapsed": false
   },
   "outputs": [
    {
     "data": {
      "text/plain": [
       "[1827, 2023]"
      ]
     },
     "execution_count": 39,
     "metadata": {},
     "output_type": "execute_result"
    }
   ],
   "source": [
    "[len(no_recs_users), len(with_recs_users)]"
   ]
  },
  {
   "cell_type": "code",
   "execution_count": 40,
   "metadata": {
    "collapsed": false
   },
   "outputs": [
    {
     "data": {
      "text/plain": [
       "[2958, 2211]"
      ]
     },
     "execution_count": 40,
     "metadata": {},
     "output_type": "execute_result"
    }
   ],
   "source": [
    "[len(no_recs_logs), len(with_recs_logs)]"
   ]
  },
  {
   "cell_type": "code",
   "execution_count": null,
   "metadata": {
    "collapsed": true
   },
   "outputs": [],
   "source": []
  }
 ],
 "metadata": {
  "kernelspec": {
   "display_name": "Python 2",
   "language": "python",
   "name": "python2"
  },
  "language_info": {
   "codemirror_mode": {
    "name": "ipython",
    "version": 2
   },
   "file_extension": ".py",
   "mimetype": "text/x-python",
   "name": "python",
   "nbconvert_exporter": "python",
   "pygments_lexer": "ipython2",
   "version": "2.7.10"
  }
 },
 "nbformat": 4,
 "nbformat_minor": 0
}
