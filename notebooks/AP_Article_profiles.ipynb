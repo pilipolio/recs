{
 "cells": [
  {
   "cell_type": "markdown",
   "metadata": {},
   "source": [
    "## Retrieving article topic profiles"
   ]
  },
  {
   "cell_type": "code",
   "execution_count": 38,
   "metadata": {
    "collapsed": false
   },
   "outputs": [],
   "source": [
    "import json\n",
    "\n",
    "es_response_raw = ! ssh root@52.31.100.64 'curl -s \"recsyses.data-dev.schibsted.io:9200/ap-monthly-topic-profiles/_search?q=*&size=5000\" 2> bla.txt' \n",
    "\n",
    "es_response = json.loads(es_response_raw[0])\n",
    "\n",
    "def doc_to_dict(doc):\n",
    "    return {'article':int(doc['_id']), 'topics': doc['_source']['topics']}\n",
    "article_topics_records = [doc_to_dict(doc) for doc in es_response['hits']['hits']]"
   ]
  },
  {
   "cell_type": "code",
   "execution_count": 40,
   "metadata": {
    "collapsed": false
   },
   "outputs": [
    {
     "data": {
      "text/html": [
       "<div>\n",
       "<table border=\"1\" class=\"dataframe\">\n",
       "  <thead>\n",
       "    <tr style=\"text-align: right;\">\n",
       "      <th></th>\n",
       "      <th>0</th>\n",
       "      <th>1</th>\n",
       "      <th>2</th>\n",
       "      <th>3</th>\n",
       "      <th>4</th>\n",
       "      <th>5</th>\n",
       "      <th>6</th>\n",
       "      <th>7</th>\n",
       "      <th>8</th>\n",
       "      <th>9</th>\n",
       "      <th>...</th>\n",
       "      <th>90</th>\n",
       "      <th>91</th>\n",
       "      <th>92</th>\n",
       "      <th>93</th>\n",
       "      <th>94</th>\n",
       "      <th>95</th>\n",
       "      <th>96</th>\n",
       "      <th>97</th>\n",
       "      <th>98</th>\n",
       "      <th>99</th>\n",
       "    </tr>\n",
       "  </thead>\n",
       "  <tbody>\n",
       "    <tr>\n",
       "      <th>8300096</th>\n",
       "      <td>0.001700</td>\n",
       "      <td>0.001835</td>\n",
       "      <td>0.002541</td>\n",
       "      <td>0.002097</td>\n",
       "      <td>0.003225</td>\n",
       "      <td>0.003449</td>\n",
       "      <td>0.015632</td>\n",
       "      <td>0.003019</td>\n",
       "      <td>0.007726</td>\n",
       "      <td>0.002342</td>\n",
       "      <td>...</td>\n",
       "      <td>0.002083</td>\n",
       "      <td>0.002515</td>\n",
       "      <td>0.002936</td>\n",
       "      <td>0.001725</td>\n",
       "      <td>0.007913</td>\n",
       "      <td>0.004912</td>\n",
       "      <td>0.003362</td>\n",
       "      <td>0.007722</td>\n",
       "      <td>0.006368</td>\n",
       "      <td>0.039793</td>\n",
       "    </tr>\n",
       "    <tr>\n",
       "      <th>8300203</th>\n",
       "      <td>0.003649</td>\n",
       "      <td>0.003883</td>\n",
       "      <td>0.005994</td>\n",
       "      <td>0.003693</td>\n",
       "      <td>0.005276</td>\n",
       "      <td>0.005931</td>\n",
       "      <td>0.006708</td>\n",
       "      <td>0.005004</td>\n",
       "      <td>0.011292</td>\n",
       "      <td>0.004224</td>\n",
       "      <td>...</td>\n",
       "      <td>0.007560</td>\n",
       "      <td>0.005036</td>\n",
       "      <td>0.007448</td>\n",
       "      <td>0.004508</td>\n",
       "      <td>0.006877</td>\n",
       "      <td>0.005228</td>\n",
       "      <td>0.005199</td>\n",
       "      <td>0.010470</td>\n",
       "      <td>0.013334</td>\n",
       "      <td>0.006423</td>\n",
       "    </tr>\n",
       "    <tr>\n",
       "      <th>8300396</th>\n",
       "      <td>0.003106</td>\n",
       "      <td>0.005451</td>\n",
       "      <td>0.004632</td>\n",
       "      <td>0.002758</td>\n",
       "      <td>0.004515</td>\n",
       "      <td>0.004550</td>\n",
       "      <td>0.006119</td>\n",
       "      <td>0.003845</td>\n",
       "      <td>0.004354</td>\n",
       "      <td>0.003455</td>\n",
       "      <td>...</td>\n",
       "      <td>0.008365</td>\n",
       "      <td>0.004923</td>\n",
       "      <td>0.025238</td>\n",
       "      <td>0.143237</td>\n",
       "      <td>0.005796</td>\n",
       "      <td>0.005076</td>\n",
       "      <td>0.003565</td>\n",
       "      <td>0.006166</td>\n",
       "      <td>0.007457</td>\n",
       "      <td>0.012011</td>\n",
       "    </tr>\n",
       "    <tr>\n",
       "      <th>8300613</th>\n",
       "      <td>0.004271</td>\n",
       "      <td>0.005707</td>\n",
       "      <td>0.005329</td>\n",
       "      <td>0.003464</td>\n",
       "      <td>0.027006</td>\n",
       "      <td>0.004713</td>\n",
       "      <td>0.005186</td>\n",
       "      <td>0.004422</td>\n",
       "      <td>0.004439</td>\n",
       "      <td>0.004146</td>\n",
       "      <td>...</td>\n",
       "      <td>0.053311</td>\n",
       "      <td>0.004021</td>\n",
       "      <td>0.007609</td>\n",
       "      <td>0.005046</td>\n",
       "      <td>0.004538</td>\n",
       "      <td>0.006135</td>\n",
       "      <td>0.004207</td>\n",
       "      <td>0.004976</td>\n",
       "      <td>0.011306</td>\n",
       "      <td>0.006676</td>\n",
       "    </tr>\n",
       "    <tr>\n",
       "      <th>8302896</th>\n",
       "      <td>0.006515</td>\n",
       "      <td>0.006785</td>\n",
       "      <td>0.007237</td>\n",
       "      <td>0.006568</td>\n",
       "      <td>0.007112</td>\n",
       "      <td>0.007288</td>\n",
       "      <td>0.020609</td>\n",
       "      <td>0.006996</td>\n",
       "      <td>0.009004</td>\n",
       "      <td>0.006781</td>\n",
       "      <td>...</td>\n",
       "      <td>0.006785</td>\n",
       "      <td>0.008080</td>\n",
       "      <td>0.007264</td>\n",
       "      <td>0.007175</td>\n",
       "      <td>0.008413</td>\n",
       "      <td>0.007518</td>\n",
       "      <td>0.007117</td>\n",
       "      <td>0.008016</td>\n",
       "      <td>0.020060</td>\n",
       "      <td>0.006839</td>\n",
       "    </tr>\n",
       "  </tbody>\n",
       "</table>\n",
       "<p>5 rows × 100 columns</p>\n",
       "</div>"
      ],
      "text/plain": [
       "               0         1         2         3         4         5         6   \\\n",
       "8300096  0.001700  0.001835  0.002541  0.002097  0.003225  0.003449  0.015632   \n",
       "8300203  0.003649  0.003883  0.005994  0.003693  0.005276  0.005931  0.006708   \n",
       "8300396  0.003106  0.005451  0.004632  0.002758  0.004515  0.004550  0.006119   \n",
       "8300613  0.004271  0.005707  0.005329  0.003464  0.027006  0.004713  0.005186   \n",
       "8302896  0.006515  0.006785  0.007237  0.006568  0.007112  0.007288  0.020609   \n",
       "\n",
       "               7         8         9     ...           90        91        92  \\\n",
       "8300096  0.003019  0.007726  0.002342    ...     0.002083  0.002515  0.002936   \n",
       "8300203  0.005004  0.011292  0.004224    ...     0.007560  0.005036  0.007448   \n",
       "8300396  0.003845  0.004354  0.003455    ...     0.008365  0.004923  0.025238   \n",
       "8300613  0.004422  0.004439  0.004146    ...     0.053311  0.004021  0.007609   \n",
       "8302896  0.006996  0.009004  0.006781    ...     0.006785  0.008080  0.007264   \n",
       "\n",
       "               93        94        95        96        97        98        99  \n",
       "8300096  0.001725  0.007913  0.004912  0.003362  0.007722  0.006368  0.039793  \n",
       "8300203  0.004508  0.006877  0.005228  0.005199  0.010470  0.013334  0.006423  \n",
       "8300396  0.143237  0.005796  0.005076  0.003565  0.006166  0.007457  0.012011  \n",
       "8300613  0.005046  0.004538  0.006135  0.004207  0.004976  0.011306  0.006676  \n",
       "8302896  0.007175  0.008413  0.007518  0.007117  0.008016  0.020060  0.006839  \n",
       "\n",
       "[5 rows x 100 columns]"
      ]
     },
     "execution_count": 40,
     "metadata": {},
     "output_type": "execute_result"
    }
   ],
   "source": [
    "import pandas as pd\n",
    "\n",
    "article_topics = pd.DataFrame(index=[d['article'] for d in article_topics_records], \n",
    "                              data=[d['topics'] for d in article_topics_records])\n",
    "\n",
    "article_topics.head()"
   ]
  },
  {
   "cell_type": "markdown",
   "metadata": {},
   "source": [
    "## Retrieving articles title and categories"
   ]
  },
  {
   "cell_type": "code",
   "execution_count": 59,
   "metadata": {
    "collapsed": false
   },
   "outputs": [
    {
     "name": "stdout",
     "output_type": "stream",
     "text": [
      "33070\n"
     ]
    }
   ],
   "source": [
    "import json\n",
    "\n",
    "es_response_raw = ! ssh root@52.31.100.64 'curl -s \"recsyses.data-dev.schibsted.io:9200/ap/_search?q=*&fields=title,categories&size=100000\" 2> bla.txt' \n",
    "\n",
    "es_response = json.loads(es_response_raw[0])\n",
    "\n",
    "def doc_to_dict(doc):\n",
    "    return {'article':int(doc['_id']), 'categories': doc['fields']['categories'], 'title': doc['fields']['title'][0]}\n",
    "article_records = [doc_to_dict(doc) for doc in es_response['hits']['hits']]\n",
    "\n",
    "print(len(article_records))"
   ]
  },
  {
   "cell_type": "code",
   "execution_count": 60,
   "metadata": {
    "collapsed": false
   },
   "outputs": [
    {
     "data": {
      "text/html": [
       "<div>\n",
       "<table border=\"1\" class=\"dataframe\">\n",
       "  <thead>\n",
       "    <tr style=\"text-align: right;\">\n",
       "      <th></th>\n",
       "      <th>categories</th>\n",
       "      <th>title</th>\n",
       "    </tr>\n",
       "    <tr>\n",
       "      <th>article</th>\n",
       "      <th></th>\n",
       "      <th></th>\n",
       "    </tr>\n",
       "  </thead>\n",
       "  <tbody>\n",
       "    <tr>\n",
       "      <th>8025689</th>\n",
       "      <td>[sport inbox, forsiden]</td>\n",
       "      <td>Ikke engang Carlsen kan matche sjakkometens ut...</td>\n",
       "    </tr>\n",
       "    <tr>\n",
       "      <th>7821113</th>\n",
       "      <td>[innenriks, forsiden, lørdag (da)]</td>\n",
       "      <td>Tatt av hunden</td>\n",
       "    </tr>\n",
       "    <tr>\n",
       "      <th>7966940</th>\n",
       "      <td>[verden, forsiden]</td>\n",
       "      <td>Flere dødsdømte, men færre henrettelser i 2014</td>\n",
       "    </tr>\n",
       "    <tr>\n",
       "      <th>7956340</th>\n",
       "      <td>[innsikt, anbefalt, fakta, forsiden, søndag (da)]</td>\n",
       "      <td>Guide: Jorden for nybegynnere</td>\n",
       "    </tr>\n",
       "    <tr>\n",
       "      <th>7967013</th>\n",
       "      <td>[sport inbox, forsiden]</td>\n",
       "      <td>Mix lever stjernelivet i New York: - Det er en...</td>\n",
       "    </tr>\n",
       "  </tbody>\n",
       "</table>\n",
       "</div>"
      ],
      "text/plain": [
       "                                                categories  \\\n",
       "article                                                      \n",
       "8025689                            [sport inbox, forsiden]   \n",
       "7821113                 [innenriks, forsiden, lørdag (da)]   \n",
       "7966940                                 [verden, forsiden]   \n",
       "7956340  [innsikt, anbefalt, fakta, forsiden, søndag (da)]   \n",
       "7967013                            [sport inbox, forsiden]   \n",
       "\n",
       "                                                     title  \n",
       "article                                                     \n",
       "8025689  Ikke engang Carlsen kan matche sjakkometens ut...  \n",
       "7821113                                     Tatt av hunden  \n",
       "7966940     Flere dødsdømte, men færre henrettelser i 2014  \n",
       "7956340                      Guide: Jorden for nybegynnere  \n",
       "7967013  Mix lever stjernelivet i New York: - Det er en...  "
      ]
     },
     "execution_count": 60,
     "metadata": {},
     "output_type": "execute_result"
    }
   ],
   "source": [
    "import pandas as pd\n",
    "\n",
    "article = pd.DataFrame.from_records(article_records, index='article')\n",
    "\n",
    "article.head()"
   ]
  },
  {
   "cell_type": "code",
   "execution_count": 44,
   "metadata": {
    "collapsed": false
   },
   "outputs": [
    {
     "data": {
      "text/plain": [
       "[<matplotlib.lines.Line2D at 0x110ca01d0>]"
      ]
     },
     "execution_count": 44,
     "metadata": {},
     "output_type": "execute_result"
    },
    {
     "data": {
      "image/png": "[encoded data removed]",
      "text/plain": [
       "<matplotlib.figure.Figure at 0x11099e410>"
      ]
     },
     "metadata": {},
     "output_type": "display_data"
    }
   ],
   "source": [
    "from matplotlib import pyplot as plt\n",
    "%matplotlib inline\n",
    "plt.style.use('ggplot')\n",
    "\n",
    "plt.plot(article_topics[0], article_topics[1], 'ko', alpha=.05)"
   ]
  },
  {
   "cell_type": "code",
   "execution_count": null,
   "metadata": {
    "collapsed": true
   },
   "outputs": [],
   "source": []
  }
 ],
 "metadata": {
  "kernelspec": {
   "display_name": "Python 2",
   "language": "python",
   "name": "python2"
  },
  "language_info": {
   "codemirror_mode": {
    "name": "ipython",
    "version": 2
   },
   "file_extension": ".py",
   "mimetype": "text/x-python",
   "name": "python",
   "nbconvert_exporter": "python",
   "pygments_lexer": "ipython2",
   "version": "2.7.10"
  }
 },
 "nbformat": 4,
 "nbformat_minor": 0
}
